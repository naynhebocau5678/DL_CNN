{
 "cells": [
  {
   "cell_type": "markdown",
   "metadata": {},
   "source": [
    "Với việc tạo ra resposity\n",
    "1. Bấm File -> Ấn chọn new resposity\n",
    "2. Điền các thông tin như tên của resposity, tích vào phần Intialize... README.md\n",
    "3. Mở visual code, ấn file, chọn folder ở trong Github trong ổ E \n",
    "4. kéo file/ folder mình muốn vào\n",
    "5. Vào phần source control(dòng thứ 3 từ trên xuống), có thể ấn vào file mình đã sửa để xem những thay đổi \n",
    "6. ấn commit, ok và yes hết\n",
    "7. "
   ]
  }
 ],
 "metadata": {
  "language_info": {
   "name": "python"
  }
 },
 "nbformat": 4,
 "nbformat_minor": 2
}
