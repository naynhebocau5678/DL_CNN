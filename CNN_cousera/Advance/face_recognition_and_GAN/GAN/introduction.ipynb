{
 "cells": [
  {
   "cell_type": "markdown",
   "metadata": {},
   "source": [
    "### Link bài viết \n",
    "https://nttuan8.com/bai-1-gioi-thieu-ve-gan/"
   ]
  },
  {
   "cell_type": "markdown",
   "metadata": {},
   "source": []
  }
 ],
 "metadata": {
  "language_info": {
   "name": "python"
  }
 },
 "nbformat": 4,
 "nbformat_minor": 2
}
