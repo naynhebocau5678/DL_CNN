{
 "cells": [
  {
   "cell_type": "markdown",
   "metadata": {},
   "source": [
    "Với việc tạo ra resposity\n",
    "1. Bấm File -> Ấn chọn new resposity\n",
    "2. Điền các thông tin như tên của resposity, tích vào phần Intialize... README.md\n",
    "3. Mở visual code, ấn file, chọn folder ở trong Github trong ổ E \n",
    "4. kéo file/ folder mình muốn vào, nhớ cltr+s\n",
    "5. Vào phần source control(dòng thứ 3 từ trên xuống), có thể ấn vào file mình đã sửa để xem những thay đổi \n",
    "6. ấn commit, ấn save all\n",
    "7. Thêm phần add [nội dung ngắn gọn muốn commit], ấn nút accept commit messenge(trên cùng bên tay phải)\n",
    "8. Ấn sync change, chờ kết quả\n",
    "\n",
    "Với việc thêm sửa xóa\n",
    "1. git các resposity về Github trên máy\n",
    "2. truy cập vào repostiy mình muốn thêm sửa xóa\n",
    "3. tương tự như trên từ bước 6 trở đi, lưu ý làm gì thì viets code tương ứng với phần mình làm(update,modified,deleted)"
   ]
  }
 ],
 "metadata": {
  "language_info": {
   "name": "python"
  }
 },
 "nbformat": 4,
 "nbformat_minor": 2
}
