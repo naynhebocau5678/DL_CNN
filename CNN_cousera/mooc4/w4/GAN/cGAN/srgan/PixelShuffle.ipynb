{
  "nbformat": 4,
  "nbformat_minor": 0,
  "metadata": {
    "colab": {
      "provenance": []
    },
    "kernelspec": {
      "name": "python3",
      "display_name": "Python 3"
    },
    "language_info": {
      "name": "python"
    }
  },
  "cells": [
    {
      "cell_type": "code",
      "source": [
        "import numpy as np\n",
        "import tensorflow as tf\n",
        "\n",
        "def pixel_shuffle(input_tensor, scale):\n",
        "    # Get the shape of the input tensor\n",
        "    batch_size, height, width, channels = input_tensor.shape\n",
        "\n",
        "    # Calculate new dimensions\n",
        "    new_height = height * scale\n",
        "    new_width = width * scale\n",
        "    new_channels = channels // (scale * scale)\n",
        "\n",
        "    # Reshape the input tensor\n",
        "    reshaped_tensor = tf.reshape(input_tensor, (batch_size, height, width, scale, scale, new_channels))\n",
        "\n",
        "    # Transpose the tensor dimensions\n",
        "    transposed_tensor = tf.transpose(reshaped_tensor, (0, 1, 3, 2, 4, 5))\n",
        "\n",
        "    # Reshape to the final output shape\n",
        "    output_tensor = tf.reshape(transposed_tensor, (batch_size, new_height, new_width, new_channels))\n",
        "\n",
        "    return output_tensor\n",
        "\n",
        "# Ví dụ đầu vào\n",
        "batch_size = 1\n",
        "height = 2\n",
        "width = 2\n",
        "channels = 4\n",
        "scale = 2\n",
        "\n",
        "input_tensor = np.array([[[[1, 2, 3, 4],\n",
        "                           [5, 6, 7, 8]],\n",
        "                          [[9, 10, 11, 12],\n",
        "                           [13, 14, 15, 16]]]], dtype=np.float32)\n",
        "print(input_tensor.shape)\n",
        "\n",
        "print(\"Input Tensor:\")\n",
        "print(input_tensor)\n",
        "\n",
        "# Chuyển đổi sang TensorFlow tensor\n",
        "input_tensor_tf = tf.constant(input_tensor)\n",
        "\n",
        "# Áp dụng Pixel Shuffle\n",
        "output_tensor_tf = pixel_shuffle(input_tensor_tf, scale)\n",
        "print(output_tensor_tf.shape)\n",
        "print(\"\\nOutput Tensor:\")\n",
        "print(output_tensor_tf.numpy())\n"
      ],
      "metadata": {
        "colab": {
          "base_uri": "https://localhost:8080/"
        },
        "id": "Q7eGVv-dSrc5",
        "outputId": "6f515a67-aac6-4772-a70f-dee525feed68"
      },
      "execution_count": 2,
      "outputs": [
        {
          "output_type": "stream",
          "name": "stdout",
          "text": [
            "(1, 2, 2, 4)\n",
            "Input Tensor:\n",
            "[[[[ 1.  2.  3.  4.]\n",
            "   [ 5.  6.  7.  8.]]\n",
            "\n",
            "  [[ 9. 10. 11. 12.]\n",
            "   [13. 14. 15. 16.]]]]\n",
            "(1, 4, 4, 1)\n",
            "\n",
            "Output Tensor:\n",
            "[[[[ 1.]\n",
            "   [ 2.]\n",
            "   [ 5.]\n",
            "   [ 6.]]\n",
            "\n",
            "  [[ 3.]\n",
            "   [ 4.]\n",
            "   [ 7.]\n",
            "   [ 8.]]\n",
            "\n",
            "  [[ 9.]\n",
            "   [10.]\n",
            "   [13.]\n",
            "   [14.]]\n",
            "\n",
            "  [[11.]\n",
            "   [12.]\n",
            "   [15.]\n",
            "   [16.]]]]\n"
          ]
        }
      ]
    }
  ]
}