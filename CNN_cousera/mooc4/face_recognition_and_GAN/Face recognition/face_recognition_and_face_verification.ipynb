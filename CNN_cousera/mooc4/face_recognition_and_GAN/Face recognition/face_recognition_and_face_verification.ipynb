{
 "cells": [
  {
   "cell_type": "markdown",
   "metadata": {},
   "source": [
    "**Face Verification** và **Face Recognition** là hai thuật ngữ phổ biến trong lĩnh vực nhận diện khuôn mặt và bảo mật sinh trắc học, nhưng chúng có những khác biệt cơ bản trong mục đích và cách thức hoạt động:\n",
    "\n",
    "1. **Face Verification (Xác minh khuôn mặt):**\n",
    "   - **Mục đích:** Xác minh danh tính của một người cụ thể.\n",
    "   - **Cách thức hoạt động:** So sánh một hình ảnh khuôn mặt với một hình ảnh khuôn mặt khác để xác định xem chúng có thuộc cùng một người hay không.\n",
    "   - **Ứng dụng:** Được sử dụng trong các hệ thống bảo mật như mở khóa điện thoại bằng khuôn mặt, kiểm tra danh tính tại các điểm kiểm soát an ninh, xác minh tài khoản ngân hàng trực tuyến, v.v.\n",
    "\n",
    "   **Ví dụ:** Khi bạn sử dụng tính năng mở khóa khuôn mặt trên điện thoại, hệ thống sẽ so sánh hình ảnh khuôn mặt hiện tại của bạn với hình ảnh đã lưu trước đó để xác nhận rằng bạn là chủ sở hữu của thiết bị.\n",
    "\n",
    "2. **Face Recognition (Nhận diện khuôn mặt):**\n",
    "   - **Mục đích:** Nhận diện và xác định một người trong một nhóm hoặc cơ sở dữ liệu.\n",
    "   - **Cách thức hoạt động:** So sánh hình ảnh khuôn mặt được cung cấp với một cơ sở dữ liệu chứa nhiều hình ảnh khuôn mặt để xác định danh tính của người đó.\n",
    "   - **Ứng dụng:** Được sử dụng trong các hệ thống giám sát, tìm kiếm tội phạm, quản lý nhân viên, marketing dựa trên khách hàng, v.v.\n",
    "\n",
    "   **Ví dụ:** Trong một hệ thống giám sát an ninh, camera sẽ chụp hình khuôn mặt của người đi qua và so sánh với cơ sở dữ liệu của những người bị truy nã để nhận diện bất kỳ người nào trong danh sách đen.\n",
    "\n",
    "### So sánh:\n",
    "- **Face Verification:** So sánh một-một (1:1).\n",
    "- **Face Recognition:** So sánh một-nhiều (1:N).\n",
    "\n",
    "Cả hai công nghệ này đều dựa trên việc phân tích các đặc điểm sinh trắc học của khuôn mặt, nhưng chúng phục vụ cho những mục đích khác nhau và được triển khai trong các ngữ cảnh khác nhau."
   ]
  },
  {
   "cell_type": "markdown",
   "metadata": {},
   "source": [
    "Có nhiều mô hình khác nhau phục vụ cho hai ứng dụng Face Verification và Face Recognition. Dưới đây là một số mô hình phổ biến cho từng loại:\n",
    "\n",
    "1. Face Verification Models:\n",
    "- VGGFace: Một mô hình mạng nơ-ron sâu phát triển bởi Visual Geometry Group tại Đại học Oxford. Nó được huấn luyện trên một lượng lớn dữ liệu khuôn mặt và rất mạnh mẽ trong việc xác minh khuôn mặt.\n",
    "- FaceNet: Được phát triển bởi Google, FaceNet sử dụng một mạng nơ-ron sâu để học các đặc trưng khuôn mặt và sử dụng triplet loss để huấn luyện. Nó có thể ánh xạ hình ảnh khuôn mặt vào một không gian vector, nơi mà khoảng cách giữa các vector tương ứng với độ giống nhau của khuôn mặt.\n",
    "- ArcFace: Một mô hình hiện đại sử dụng công nghệ Additive Angular Margin Loss để cải thiện hiệu suất xác minh và nhận diện khuôn mặt. Nó được biết đến với độ chính xác cao trong các nhiệm vụ liên quan đến khuôn mặt.\n",
    "2. Face Recognition Models:\n",
    "- DeepFace: Được phát triển bởi Facebook, DeepFace sử dụng một mạng nơ-ron sâu để nhận diện khuôn mặt với độ chính xác cao. Nó đã được sử dụng rộng rãi trong các ứng dụng của Facebook.\n",
    "- Dlib: Một thư viện phần mềm nguồn mở cung cấp các công cụ cho nhận diện khuôn mặt, bao gồm một mô hình nhận diện khuôn mặt dựa trên deep learning. Dlib dễ dàng tích hợp và sử dụng trong nhiều dự án.\n",
    "- OpenFace: Một dự án nguồn mở phát triển bởi Carnegie Mellon University, OpenFace cung cấp các công cụ cho nhận diện khuôn mặt dựa trên FaceNet và được tối ưu hóa để chạy trên các thiết bị khác nhau."
   ]
  },
  {
   "cell_type": "markdown",
   "metadata": {},
   "source": [
    "## One-shot learning"
   ]
  },
  {
   "cell_type": "markdown",
   "metadata": {},
   "source": [
    "\n",
    "One-shot Learning là một phương pháp học máy, đặc biệt trong lĩnh vực học sâu, mà ở đó mô hình có khả năng học và phân loại với rất ít mẫu huấn luyện, thường chỉ với một mẫu duy nhất cho mỗi lớp (do đó gọi là \"one-shot\"). Kỹ thuật này rất hữu ích trong các bài toán mà việc thu thập và gắn nhãn dữ liệu lớn là khó khăn hoặc tốn kém.\n",
    "\n",
    "Các khái niệm cơ bản và ứng dụng của One-shot Learning:\n",
    "1. Motivation (Động lực):\n",
    "\n",
    "Khó khăn trong thu thập dữ liệu: Trong nhiều ứng dụng thực tế, việc thu thập và gắn nhãn một lượng lớn dữ liệu là rất khó khăn hoặc không khả thi.\n",
    "Khả năng học của con người: Con người có khả năng nhận diện và phân loại đối tượng mới chỉ dựa trên một hoặc vài ví dụ, điều này thúc đẩy sự phát triển của các mô hình máy học có khả năng tương tự.\n",
    "\n",
    "2. Các phương pháp tiếp cận:\n",
    "\n",
    "- Siamese Networks: Sử dụng một cặp mạng nơ-ron có trọng số chia sẻ để học các đặc trưng từ cặp hình ảnh, và sau đó đánh giá sự tương đồng giữa chúng. Một hàm mất mát tiêu chuẩn cho mạng này là contrastive loss.\n",
    "- Triplet Networks: Mở rộng từ Siamese Networks, sử dụng ba hình ảnh (anchor, positive, và negative) và một hàm mất mát gọi là triplet loss để tối đa hóa khoảng cách giữa anchor và negative, và tối thiểu hóa khoảng cách giữa anchor và positive.\n",
    "- Prototypical Networks: Sử dụng một prototype (đại diện) cho mỗi lớp và phân loại các mẫu mới dựa trên khoảng cách của chúng đến các prototype này. Khoảng cách thường được đo bằng Euclidean distance.\n",
    "- Matching Networks: Sử dụng một mạng nơ-ron để tính toán sự tương đồng giữa một mẫu mới và các mẫu trong tập huấn luyện, và sau đó sử dụng hàm softmax để xác định lớp của mẫu mới.\n",
    "Kỹ thuật chính:\n",
    "3. Kỹ thuật chính \n",
    "- Embedding Spaces: Chuyển đổi các dữ liệu gốc vào một không gian đặc trưng (embedding space) mà ở đó các mẫu của cùng một lớp nằm gần nhau và các mẫu của lớp khác nằm xa nhau.\n",
    "- Metric Learning: Học các khoảng cách hoặc sự tương đồng giữa các mẫu, giúp phân biệt chúng trong không gian đặc trưng.\n",
    "- Data Augmentation: Tạo ra nhiều biến thể từ một mẫu huấn luyện duy nhất để tăng cường dữ liệu.\n",
    "### Các ứng dụng của One-shot Learning:\n",
    "- Nhận diện khuôn mặt: Xác định một người dựa trên một hình ảnh duy nhất, được ứng dụng rộng rãi trong các hệ thống bảo mật.\n",
    "- Xử lý ngôn ngữ tự nhiên (NLP): Phân loại văn bản hoặc nhận diện thực thể với ít dữ liệu huấn luyện.\n",
    "- Y học: Phân loại hình ảnh y khoa (như hình ảnh X-quang hoặc MRI) với số lượng mẫu huấn luyện hạn chế.\n",
    "- Robot và điều khiển: Giúp robot học các nhiệm vụ mới từ ít ví dụ, cải thiện khả năng tự động hóa và học tập trong thời gian thực.\n"
   ]
  },
  {
   "cell_type": "code",
   "execution_count": null,
   "metadata": {
    "vscode": {
     "languageId": "plaintext"
    }
   },
   "outputs": [],
   "source": []
  }
 ],
 "metadata": {
  "language_info": {
   "name": "python"
  }
 },
 "nbformat": 4,
 "nbformat_minor": 2
}
